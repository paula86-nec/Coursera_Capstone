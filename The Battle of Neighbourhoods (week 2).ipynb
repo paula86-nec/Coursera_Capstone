{
 "cells": [
  {
   "cell_type": "markdown",
   "metadata": {},
   "source": [
    "## Coursera Capstone Project\n",
    "\n",
    "### The Battle of Neighborhoods (Week 2 - Final)"
   ]
  },
  {
   "cell_type": "markdown",
   "metadata": {},
   "source": [
    "### REPORT CONTENT\n",
    "\n",
    "1. Introduction Section :Discussion of the business problem and the interested audience in this project.\n",
    "2. Data Section: Description of the data that will be used to solve the problem and the sources.\n",
    "3. Methodology section: Discussion and description of exploratory data analysis carried out, any inferential statistical testing performed, and if any machine learnings were used establishing the strategy and purposes.\n",
    "4. Results section: Discussion of the results.\n",
    "5. Discussion section: Elaboration and discussion on any observations noted and any recommendations suggested based on the results.\n",
    "6. Conclusion section: Report Conclusion."
   ]
  },
  {
   "cell_type": "markdown",
   "metadata": {},
   "source": [
    "## 1. Introduction Section :\n",
    "###### Discussion of the business problem and the audience who would be interested in this project.\n",
    "\n",
    "###### Description of the Problem and Background\n",
    "###### Scenario:\n",
    "I am a data scientist residing in Iasi. I currently live within walking distance to Iasi City Center and I enjoy many ammenities and venues in the area, such as various international cousine restaurants, cafes, food shops and entertainment. I have been offered a great opportunity to work for a leader firm in Manhattan, NY. I am very excited and I want to use this opportunity to practice my learnings in Coursera in order to answer relevant questions arisen. The key question is : How can I find a convenient and enjoyable place similar to mine now in Iasi? Certainly, I can use available real estate apps and Google but the idea is to use and apply myself the learned tools during the course. In order to make a comparison and evaluation of the rental options in Manhattan NY, I must set some basis, therefore the apartment in Manhattan must meet the following demands:\n",
    "\n",
    "* apartment must be 2 or 3 bedrooms\n",
    "* desired location is near a metro station in the Manhattan area and within 1.0 mile (1.6 km) radius\n",
    "* price of rent not exceed $7,000 per month\n",
    "* top ammenities in the selected neighborhood shall be similar to current residence\n",
    "* desirable to have venues such as coffee shops, restaurants, wine stores, gym and food shops.\n",
    "* As a reference, I have included a map of venues near current residence in Iasi.\n",
    "\n",
    "###### Business Problem:\n",
    "The challenge is to find a suitable apartment for rent in Manhattan NY that complies with the demands on location, price and venues. The data required to resolve this challenge is described in the following section 2, below.\n",
    "\n",
    "###### Interested Audience\n",
    "I believe this is a relevant challenge with valid questions for anyone moving to other large city in US, EU or Asia. The same methodology can be applied in accordance to demands as applicable. This case is also applicable for anyone interested in exploring starting or locating a new business in any city. Lastly, it can also serve as a good practical exercise to develop Data Science skills."
   ]
  },
  {
   "cell_type": "markdown",
   "metadata": {},
   "source": [
    "## 2.   Data Selection:\n",
    "\n",
    "#### Description of the data:\n",
    "\n",
    "The following data is required to answer the issues of the problem:\n",
    "\n",
    "* List of Boroughs and neighborhoods of Manhattan with their geodata (latitude and longitude)\n",
    "* List of Subway metro stations in Manhattan with their address location\n",
    "* List of apartments for rent in Manhattan area with their addresses and price\n",
    "* Preferably, a list of apartment for rent with additional information, such as price, address, area, # of beds, etc\n",
    "* Venues for each Manhattan neighborhood ( than can be clustered)\n",
    "* Venues for subway metro stations, as needed\n",
    "\n",
    "#### How the data will be used to solve the problem\n",
    "\n",
    "The data will be used as follows:\n",
    "\n",
    "* Use Foursquare and geopy data to map top 10 venues for all Manhattan neighborhoods and clustered in groups ( as per Course LAB)\n",
    "* Use foursquare and geopy data to map the location of subway metro stations , separately and on top of the above clustered map in order to be able to identify the venues and ammenities near each metro station, or explore each subway location separately\n",
    "* Use Foursquare and geopy data to map the location of rental places, in some form, linked to the subway locations.\n",
    "create a map that depicts, for instance, the average rental price per square ft, around a radious of 1.0 mile (1.6 km) around each subway station - or a similar metrics. I will be able to quickly point to the popups to know the relative price per subway area.\n",
    "* Addresses from rental locations will be converted to geodata( lat, long) using Geopy-distance and Nominatim.\n",
    "* Data will be searched in open data sources if available, from real estate sites if open to reading, libraries or other government agencies such as Metro New York MTA, etc.\n",
    "\n",
    "The procesing of these DATA will allow to answer the key questions to make a decision:\n",
    "\n",
    "* what is the cost of rent (per square ft) around a mile radius from each subway metro station?\n",
    "* what is the area of Manhattan with best rental pricing that meets criteria established?\n",
    "* What is the distance from work place ( Park Ave and 53 rd St) and the tentative future home?\n",
    "* What are the venues of the two best places to live? How the prices compare?\n",
    "* How venues distribute among Manhattan neighborhoods and around metro stations?\n",
    "* Are there tradeoffs between size and price and location?\n",
    "* Any other interesting statistical data findings of the real estate and overall data."
   ]
  },
  {
   "cell_type": "markdown",
   "metadata": {},
   "source": [
    "## 3. Methodology Section\n",
    "\n",
    "This section represents the main component of the report where the data is gathered, prepared for analysis. The tools described are used here and the Notebook cells indicates the execution of steps.\n",
    "\n",
    "#### The analysis and the stragegy:\n",
    "\n",
    "The strategy is based on mapping the above described data in section 2.0, in order to facilitate the choice of at least two candidate places for rent. The choice is made based on the demands imposed : location near a subway, rental price and similar venues to Iasi. This visual approach and maps with popups labels allow quick identification of location, price and feature, thus making the selection very easy.\n",
    "\n",
    "The procesing of these DATA and its mapping will allow to answer the key questions to make a decision:\n",
    "\n",
    "* what is the cost of available rental places that meet the demands?\n",
    "* what is the cost of rent around a mile radius from each subway metro station?\n",
    "* what is the area of Manhattan with best rental pricing that meets criteria established?\n",
    "* What is the distance from work place ( Park Ave and 53 rd St) and the tentative future rental home?\n",
    "* What are the venues of the two best places to live? How the prices compare?\n",
    "* How venues distribute among Manhattan neighborhoods and around metro stations?\n",
    "* Are there tradeoffs between size and price and location?\n",
    "* Any other interesting statistical data findings of the real estate and overall data."
   ]
  },
  {
   "cell_type": "markdown",
   "metadata": {},
   "source": [
    "## METHODOLOY EXECUTION - Mapping Data\n",
    "\n",
    "#### IASI NEIGHBORHOODS - DATA AND MAPPING"
   ]
  },
  {
   "cell_type": "code",
   "execution_count": 1,
   "metadata": {},
   "outputs": [
    {
     "name": "stdout",
     "output_type": "stream",
     "text": [
      "Libraries imported.\n"
     ]
    }
   ],
   "source": [
    "# Import needed libraries\n",
    "\n",
    "import numpy as np # library to handle data in a vectorized manner\n",
    "import time\n",
    "import pandas as pd # library for data analsysis\n",
    "pd.set_option('display.max_columns', None)\n",
    "pd.set_option('display.max_rows', None)\n",
    "\n",
    "import json # library to handle JSON files\n",
    "import requests # library to handle requests\n",
    "from pandas.io.json import json_normalize # tranform JSON file into a pandas dataframe\n",
    "\n",
    "from geopy.geocoders import Nominatim # convert an address into latitude and longitude values\n",
    "#!conda install -c conda-forge folium=0.5.0 --yes # uncomment this line if you haven't completed the Foursquare API lab\n",
    "import folium # map rendering library\n",
    "\n",
    "print('Libraries imported.')"
   ]
  },
  {
   "cell_type": "code",
   "execution_count": 2,
   "metadata": {},
   "outputs": [
    {
     "name": "stdout",
     "output_type": "stream",
     "text": [
      "The geograpical coordinate of Iasi home are 47.1626504, 27.5825527.\n"
     ]
    }
   ],
   "source": [
    "# Bulevardul Ștefan cel Mare și Sfânt, Iași\n",
    "address = 'Bulevardul Ștefan cel Mare și Sfânt, Iași'\n",
    "\n",
    "geolocator = Nominatim(user_agent=\"my_application\")\n",
    "location = geolocator.geocode(address)\n",
    "latitude = location.latitude\n",
    "longitude = location.longitude\n",
    "print('The geograpical coordinate of Iasi home are {}, {}.'.format(latitude, longitude))"
   ]
  },
  {
   "cell_type": "code",
   "execution_count": 3,
   "metadata": {},
   "outputs": [],
   "source": [
    "neighborhood_latitude=47.1662563\n",
    "neighborhood_longitude=27.5873969"
   ]
  },
  {
   "cell_type": "code",
   "execution_count": 4,
   "metadata": {},
   "outputs": [],
   "source": [
    "CLIENT_ID = 'FANFVFZYYYXBRVDE2AWUYMUE5NSIFOQMUK25XRC2EPZNVYMD'\n",
    "CLIENT_SECRET = 'DP0HVR1PTRKU1HLA50XMVVIEP2K5YFDLGG3MMB4EQNQQAF5B'\n",
    "VERSION = '20191101'"
   ]
  },
  {
   "cell_type": "code",
   "execution_count": 5,
   "metadata": {},
   "outputs": [
    {
     "data": {
      "text/plain": [
       "'https://api.foursquare.com/v2/venues/explore?&client_id=FANFVFZYYYXBRVDE2AWUYMUE5NSIFOQMUK25XRC2EPZNVYMD&client_secret=DP0HVR1PTRKU1HLA50XMVVIEP2K5YFDLGG3MMB4EQNQQAF5B&v=20191101&ll=47.1662563,27.5873969&radius=500&limit=100'"
      ]
     },
     "execution_count": 5,
     "metadata": {},
     "output_type": "execute_result"
    }
   ],
   "source": [
    "LIMIT = 100 # limit of number of venues returned by Foursquare API\n",
    "radius = 500 # define radius\n",
    "\n",
    "# create URL\n",
    "url = 'https://api.foursquare.com/v2/venues/explore?&client_id={}&client_secret={}&v={}&ll={},{}&radius={}&limit={}'.format(\n",
    "    CLIENT_ID, \n",
    "    CLIENT_SECRET, \n",
    "    VERSION, \n",
    "    neighborhood_latitude, \n",
    "    neighborhood_longitude, \n",
    "    radius, \n",
    "    LIMIT)\n",
    "url # display URL"
   ]
  },
  {
   "cell_type": "code",
   "execution_count": 6,
   "metadata": {},
   "outputs": [],
   "source": [
    "results = requests.get(url).json()\n",
    "#results"
   ]
  },
  {
   "cell_type": "code",
   "execution_count": 7,
   "metadata": {},
   "outputs": [],
   "source": [
    "# function that extracts the category of the venue\n",
    "def get_category_type(row):\n",
    "    try:\n",
    "        categories_list = row['categories']\n",
    "    except:\n",
    "        categories_list = row['venue.categories']\n",
    "        \n",
    "    if len(categories_list) == 0:\n",
    "        return None\n",
    "    else:\n",
    "        return categories_list[0]['name']"
   ]
  },
  {
   "cell_type": "code",
   "execution_count": 8,
   "metadata": {},
   "outputs": [
    {
     "data": {
      "text/html": [
       "<div>\n",
       "<style scoped>\n",
       "    .dataframe tbody tr th:only-of-type {\n",
       "        vertical-align: middle;\n",
       "    }\n",
       "\n",
       "    .dataframe tbody tr th {\n",
       "        vertical-align: top;\n",
       "    }\n",
       "\n",
       "    .dataframe thead th {\n",
       "        text-align: right;\n",
       "    }\n",
       "</style>\n",
       "<table border=\"1\" class=\"dataframe\">\n",
       "  <thead>\n",
       "    <tr style=\"text-align: right;\">\n",
       "      <th></th>\n",
       "      <th>name</th>\n",
       "      <th>categories</th>\n",
       "      <th>lat</th>\n",
       "      <th>lng</th>\n",
       "    </tr>\n",
       "  </thead>\n",
       "  <tbody>\n",
       "    <tr>\n",
       "      <th>0</th>\n",
       "      <td>Toujours</td>\n",
       "      <td>Restaurant</td>\n",
       "      <td>47.168674</td>\n",
       "      <td>27.586886</td>\n",
       "    </tr>\n",
       "    <tr>\n",
       "      <th>1</th>\n",
       "      <td>Filarmonica de Stat Moldova</td>\n",
       "      <td>Concert Hall</td>\n",
       "      <td>47.164323</td>\n",
       "      <td>27.585522</td>\n",
       "    </tr>\n",
       "    <tr>\n",
       "      <th>2</th>\n",
       "      <td>Teatrul Național \"Vasile Alecsandri\"</td>\n",
       "      <td>Theater</td>\n",
       "      <td>47.163045</td>\n",
       "      <td>27.584653</td>\n",
       "    </tr>\n",
       "    <tr>\n",
       "      <th>3</th>\n",
       "      <td>Teo's Cafe UMF</td>\n",
       "      <td>Café</td>\n",
       "      <td>47.168358</td>\n",
       "      <td>27.583913</td>\n",
       "    </tr>\n",
       "    <tr>\n",
       "      <th>4</th>\n",
       "      <td>Bolta Rece</td>\n",
       "      <td>Eastern European Restaurant</td>\n",
       "      <td>47.167503</td>\n",
       "      <td>27.586788</td>\n",
       "    </tr>\n",
       "    <tr>\n",
       "      <th>5</th>\n",
       "      <td>Hotel Select</td>\n",
       "      <td>Hotel</td>\n",
       "      <td>47.165330</td>\n",
       "      <td>27.581488</td>\n",
       "    </tr>\n",
       "    <tr>\n",
       "      <th>6</th>\n",
       "      <td>Bistro Piața Unirii</td>\n",
       "      <td>Sushi Restaurant</td>\n",
       "      <td>47.166224</td>\n",
       "      <td>27.580831</td>\n",
       "    </tr>\n",
       "    <tr>\n",
       "      <th>7</th>\n",
       "      <td>Piața Unirii</td>\n",
       "      <td>Plaza</td>\n",
       "      <td>47.165562</td>\n",
       "      <td>27.580881</td>\n",
       "    </tr>\n",
       "    <tr>\n",
       "      <th>8</th>\n",
       "      <td>Teatru Fix</td>\n",
       "      <td>Café</td>\n",
       "      <td>47.164716</td>\n",
       "      <td>27.583175</td>\n",
       "    </tr>\n",
       "    <tr>\n",
       "      <th>9</th>\n",
       "      <td>Parcul Teatrului Național</td>\n",
       "      <td>Park</td>\n",
       "      <td>47.162736</td>\n",
       "      <td>27.583387</td>\n",
       "    </tr>\n",
       "    <tr>\n",
       "      <th>10</th>\n",
       "      <td>Patiserie SELECT</td>\n",
       "      <td>Pastry Shop</td>\n",
       "      <td>47.165287</td>\n",
       "      <td>27.581021</td>\n",
       "    </tr>\n",
       "    <tr>\n",
       "      <th>11</th>\n",
       "      <td>Warda</td>\n",
       "      <td>Fast Food Restaurant</td>\n",
       "      <td>47.166983</td>\n",
       "      <td>27.586507</td>\n",
       "    </tr>\n",
       "    <tr>\n",
       "      <th>12</th>\n",
       "      <td>Cin Cin by Select</td>\n",
       "      <td>Restaurant</td>\n",
       "      <td>47.165276</td>\n",
       "      <td>27.581444</td>\n",
       "    </tr>\n",
       "    <tr>\n",
       "      <th>13</th>\n",
       "      <td>StarGrill</td>\n",
       "      <td>BBQ Joint</td>\n",
       "      <td>47.165861</td>\n",
       "      <td>27.590788</td>\n",
       "    </tr>\n",
       "    <tr>\n",
       "      <th>14</th>\n",
       "      <td>Caprice</td>\n",
       "      <td>Ice Cream Shop</td>\n",
       "      <td>47.165216</td>\n",
       "      <td>27.581561</td>\n",
       "    </tr>\n",
       "  </tbody>\n",
       "</table>\n",
       "</div>"
      ],
      "text/plain": [
       "                                    name                   categories  \\\n",
       "0                               Toujours                   Restaurant   \n",
       "1            Filarmonica de Stat Moldova                 Concert Hall   \n",
       "2   Teatrul Național \"Vasile Alecsandri\"                      Theater   \n",
       "3                         Teo's Cafe UMF                         Café   \n",
       "4                             Bolta Rece  Eastern European Restaurant   \n",
       "5                           Hotel Select                        Hotel   \n",
       "6                    Bistro Piața Unirii             Sushi Restaurant   \n",
       "7                           Piața Unirii                        Plaza   \n",
       "8                             Teatru Fix                         Café   \n",
       "9              Parcul Teatrului Național                         Park   \n",
       "10                      Patiserie SELECT                  Pastry Shop   \n",
       "11                                 Warda         Fast Food Restaurant   \n",
       "12                     Cin Cin by Select                   Restaurant   \n",
       "13                             StarGrill                    BBQ Joint   \n",
       "14                               Caprice               Ice Cream Shop   \n",
       "\n",
       "          lat        lng  \n",
       "0   47.168674  27.586886  \n",
       "1   47.164323  27.585522  \n",
       "2   47.163045  27.584653  \n",
       "3   47.168358  27.583913  \n",
       "4   47.167503  27.586788  \n",
       "5   47.165330  27.581488  \n",
       "6   47.166224  27.580831  \n",
       "7   47.165562  27.580881  \n",
       "8   47.164716  27.583175  \n",
       "9   47.162736  27.583387  \n",
       "10  47.165287  27.581021  \n",
       "11  47.166983  27.586507  \n",
       "12  47.165276  27.581444  \n",
       "13  47.165861  27.590788  \n",
       "14  47.165216  27.581561  "
      ]
     },
     "execution_count": 8,
     "metadata": {},
     "output_type": "execute_result"
    }
   ],
   "source": [
    "venues = results['response']['groups'][0]['items']\n",
    "    \n",
    "SGnearby_venues = pd.json_normalize(venues) # flatten JSON\n",
    "\n",
    "# filter columns\n",
    "filtered_columns = ['venue.name', 'venue.categories', 'venue.location.lat', 'venue.location.lng']\n",
    "SGnearby_venues =SGnearby_venues.loc[:, filtered_columns]\n",
    "\n",
    "# filter the category for each row\n",
    "SGnearby_venues['venue.categories'] = SGnearby_venues.apply(get_category_type, axis=1)\n",
    "\n",
    "# clean columns\n",
    "SGnearby_venues.columns = [col.split(\".\")[-1] for col in SGnearby_venues.columns]\n",
    "\n",
    "SGnearby_venues.head(15)"
   ]
  },
  {
   "cell_type": "code",
   "execution_count": 9,
   "metadata": {},
   "outputs": [
    {
     "data": {
      "text/plain": [
       "(20, 4)"
      ]
     },
     "execution_count": 9,
     "metadata": {},
     "output_type": "execute_result"
    }
   ],
   "source": [
    "\n",
    "SGnearby_venues.shape"
   ]
  },
  {
   "cell_type": "code",
   "execution_count": 10,
   "metadata": {},
   "outputs": [
    {
     "data": {
      "text/html": [
       "<div style=\"width:100%;\"><div style=\"position:relative;width:100%;height:0;padding-bottom:60%;\"><span style=\"color:#565656\">Make this Notebook Trusted to load map: File -> Trust Notebook</span><iframe src=\"about:blank\" style=\"position:absolute;width:100%;height:100%;left:0;top:0;border:none !important;\" data-html=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 onload=\"this.contentDocument.open();this.contentDocument.write(atob(this.getAttribute('data-html')));this.contentDocument.close();\" allowfullscreen webkitallowfullscreen mozallowfullscreen></iframe></div></div>"
      ],
      "text/plain": [
       "<folium.folium.Map at 0x2592dc8cd00>"
      ]
     },
     "execution_count": 10,
     "metadata": {},
     "output_type": "execute_result"
    }
   ],
   "source": [
    "# create map of Iasi place  using latitude and longitude values\n",
    "map_sg = folium.Map(location=[latitude, longitude], zoom_start=20)\n",
    "\n",
    "# add markers to map\n",
    "for lat, lng, label in zip(SGnearby_venues['lat'], SGnearby_venues['lng'], SGnearby_venues['name']):\n",
    "    label = folium.Popup(label, parse_html=True)\n",
    "    folium.RegularPolygonMarker(\n",
    "        [lat, lng],\n",
    "        number_of_sides=4,\n",
    "        radius=10,\n",
    "        popup=label,\n",
    "        color='blue',\n",
    "        fill_color='#0f0f0f',\n",
    "        fill_opacity=0.7,\n",
    "    ).add_to(map_sg)  \n",
    "    \n",
    "map_sg"
   ]
  },
  {
   "cell_type": "markdown",
   "metadata": {},
   "source": [
    "#### MANHATTAN NEIGHBORHOODS - DATA AND MAPPING"
   ]
  },
  {
   "cell_type": "code",
   "execution_count": 11,
   "metadata": {},
   "outputs": [
    {
     "name": "stdout",
     "output_type": "stream",
     "text": [
      "Libraries imported.\n"
     ]
    }
   ],
   "source": [
    "import numpy as np # library to handle data in a vectorized manner\n",
    "\n",
    "import pandas as pd # library for data analsysis\n",
    "pd.set_option('display.max_columns', None)\n",
    "pd.set_option('display.max_rows', None)\n",
    "\n",
    "import json # library to handle JSON files\n",
    "\n",
    "#!conda install -c conda-forge geopy --yes # uncomment this line if you haven't completed the Foursquare API lab\n",
    "from geopy.geocoders import Nominatim # convert an address into latitude and longitude values\n",
    "\n",
    "import requests # library to handle requests\n",
    "from pandas.io.json import json_normalize # tranform JSON file into a pandas dataframe\n",
    "\n",
    "# Matplotlib and associated plotting modules\n",
    "import matplotlib.cm as cm\n",
    "import matplotlib.colors as colors\n",
    "\n",
    "# import k-means from clustering stage\n",
    "from sklearn.cluster import KMeans\n",
    "\n",
    "#!conda install -c conda-forge folium=0.5.0 --yes # uncomment this line if you haven't completed the Foursquare API lab\n",
    "import folium # map rendering library\n",
    "\n",
    "print('Libraries imported.')"
   ]
  },
  {
   "cell_type": "code",
   "execution_count": 12,
   "metadata": {},
   "outputs": [
    {
     "name": "stdout",
     "output_type": "stream",
     "text": [
      "Data downloaded!\n"
     ]
    },
    {
     "name": "stderr",
     "output_type": "stream",
     "text": [
      "'wget' is not recognized as an internal or external command,\n",
      "operable program or batch file.\n"
     ]
    }
   ],
   "source": [
    "!wget -q -O 'newyork_data.json' https://cf-courses-data.s3.us.cloud-object-storage.appdomain.cloud/IBMDeveloperSkillsNetwork-DS0701EN-SkillsNetwork/labs/newyork_data.json\n",
    "print('Data downloaded!')"
   ]
  },
  {
   "cell_type": "code",
   "execution_count": 13,
   "metadata": {},
   "outputs": [
    {
     "ename": "FileNotFoundError",
     "evalue": "[Errno 2] No such file or directory: 'newyork_data.json'",
     "output_type": "error",
     "traceback": [
      "\u001b[1;31m---------------------------------------------------------------------------\u001b[0m",
      "\u001b[1;31mFileNotFoundError\u001b[0m                         Traceback (most recent call last)",
      "\u001b[1;32m<ipython-input-13-dce4ee6b3442>\u001b[0m in \u001b[0;36m<module>\u001b[1;34m\u001b[0m\n\u001b[1;32m----> 1\u001b[1;33m \u001b[1;32mwith\u001b[0m \u001b[0mopen\u001b[0m\u001b[1;33m(\u001b[0m\u001b[1;34m'newyork_data.json'\u001b[0m\u001b[1;33m)\u001b[0m \u001b[1;32mas\u001b[0m \u001b[0mjson_data\u001b[0m\u001b[1;33m:\u001b[0m\u001b[1;33m\u001b[0m\u001b[1;33m\u001b[0m\u001b[0m\n\u001b[0m\u001b[0;32m      2\u001b[0m     \u001b[0mnewyork_data\u001b[0m \u001b[1;33m=\u001b[0m \u001b[0mjson\u001b[0m\u001b[1;33m.\u001b[0m\u001b[0mload\u001b[0m\u001b[1;33m(\u001b[0m\u001b[0mjson_data\u001b[0m\u001b[1;33m)\u001b[0m\u001b[1;33m\u001b[0m\u001b[1;33m\u001b[0m\u001b[0m\n",
      "\u001b[1;31mFileNotFoundError\u001b[0m: [Errno 2] No such file or directory: 'newyork_data.json'"
     ]
    }
   ],
   "source": [
    "with open('newyork_data.json') as json_data:\n",
    "    newyork_data = json.load(json_data)"
   ]
  },
  {
   "cell_type": "code",
   "execution_count": null,
   "metadata": {},
   "outputs": [],
   "source": [
    "    "
   ]
  }
 ],
 "metadata": {
  "kernelspec": {
   "display_name": "Python 3",
   "language": "python",
   "name": "python3"
  },
  "language_info": {
   "codemirror_mode": {
    "name": "ipython",
    "version": 3
   },
   "file_extension": ".py",
   "mimetype": "text/x-python",
   "name": "python",
   "nbconvert_exporter": "python",
   "pygments_lexer": "ipython3",
   "version": "3.8.3"
  }
 },
 "nbformat": 4,
 "nbformat_minor": 4
}
